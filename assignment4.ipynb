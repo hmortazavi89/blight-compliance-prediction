{
  "cells": [
    {
      "cell_type": "code",
      "source": [
        "from google.colab import drive\n",
        "drive.mount('/drive')"
      ],
      "metadata": {
        "id": "fSHPm0Jirvs4",
        "colab": {
          "base_uri": "https://localhost:8080/"
        },
        "outputId": "1fedad0b-f6e7-47c8-890f-6a34cacf6045"
      },
      "execution_count": null,
      "outputs": [
        {
          "output_type": "stream",
          "name": "stdout",
          "text": [
            "Mounted at /drive\n"
          ]
        }
      ]
    },
    {
      "cell_type": "code",
      "source": [
        "import pandas as pd\n",
        "import numpy as np\n",
        "from sklearn.model_selection import train_test_split\n",
        "df2 = pd.read_csv('/drive/My Drive/Colab Notebooks/course3/readonly/train.csv', encoding = 'ISO-8859-1')\n",
        "df3 = pd.read_csv('/drive/My Drive/Colab Notebooks/course3/readonly/addresses.csv', encoding = 'ISO-8859-1')\n",
        "df4 = pd.read_csv('/drive/My Drive/Colab Notebooks/course3/readonly/latlons.csv', encoding = 'ISO-8859-1')\n",
        "df1=df2.merge(df3.merge(df4,on='address'),on='ticket_id')\n",
        "df5 = pd.read_csv('/drive/My Drive/Colab Notebooks/course3/readonly/test.csv', encoding = 'ISO-8859-1')\n",
        "df6=df5.merge(df3.merge(df4,on='address'),on='ticket_id')\n",
        "df6.set_index('ticket_id',inplace=True)\n",
        "df6=df6[['ticket_issued_date', 'hearing_date', 'late_fee', 'judgment_amount', 'lat', 'lon']]\n",
        "df6.dropna(axis='rows',inplace=True)\n",
        "df6"
      ],
      "metadata": {
        "id": "mGhE8KmUClgB"
      },
      "execution_count": null,
      "outputs": []
    },
    {
      "cell_type": "code",
      "source": [
        "df1.columns"
      ],
      "metadata": {
        "id": "Ni5ahkNGz2fx"
      },
      "execution_count": null,
      "outputs": []
    },
    {
      "cell_type": "code",
      "source": [
        "from sklearn.model_selection import GridSearchCV\n",
        "from sklearn.svm import SVC\n",
        "from sklearn.preprocessing import MinMaxScaler\n",
        "from sklearn.model_selection import train_test_split\n",
        "from sklearn.ensemble import RandomForestClassifier\n",
        "scaler = MinMaxScaler()\n",
        "df=df1[['ticket_issued_date', 'hearing_date', 'late_fee', 'judgment_amount','compliance', 'lat', 'lon']]\n",
        "df.dropna(axis='rows',inplace=True)\n",
        "df.reset_index(inplace=True,drop=True)\n",
        "df['time']=pd.to_datetime(df['hearing_date'])-pd.to_datetime(df['ticket_issued_date'])\n",
        "df['amount']=df['judgment_amount']-df['late_fee']\n",
        "df.drop(['judgment_amount', 'late_fee', 'hearing_date', 'ticket_issued_date'], axis=1, inplace=True)\n",
        "y=df['compliance']\n",
        "X=pd.get_dummies(df[['state','violation_code']])\n",
        "df['time']=df['time'].dt.days\n",
        "X=df[['amount','time']]\n",
        "#X_train, X_test, y_train, y_test = train_test_split(X_fruits, y_fruits, random_state=0)\n",
        "X_scaled=scaler.fit_transform(X)\n",
        "grid_values = {'n_estimators': [1000]}\n",
        "clf = RandomForestClassifier()\n",
        "grid_clf_acc = GridSearchCV(clf, param_grid = grid_values, cv=5, scoring='roc_auc')\n",
        "grid_clf_acc.fit(X_scaled,y)\n",
        "x=grid_clf_acc.score(X_s\n",
        "x"
      ],
      "metadata": {
        "id": "HG5UNFiwEBYb"
      },
      "execution_count": null,
      "outputs": []
    },
    {
      "cell_type": "code",
      "source": [
        "from sklearn.model_selection import GridSearchCV\n",
        "from sklearn.svm import SVC\n",
        "from sklearn.preprocessing import MinMaxScaler\n",
        "from sklearn.model_selection import train_test_split\n",
        "from sklearn.ensemble import RandomForestClassifier\n",
        "scaler = MinMaxScaler()\n",
        "df1=df[['state', 'ticket_issued_date', 'hearing_date', 'violation_code', 'late_fee', 'judgment_amount','compliance']]\n",
        "df1.dropna(axis='rows',inplace=True)\n",
        "df1.reset_index(inplace=True,drop=True)\n",
        "df1['time']=pd.to_datetime(df1['hearing_date'])-pd.to_datetime(df1['ticket_issued_date'])\n",
        "df1['amount']=df1['judgment_amount']-df1['late_fee']\n",
        "df1.drop(['judgment_amount', 'late_fee', 'hearing_date', 'ticket_issued_date'], axis=1, inplace=True)\n",
        "y=df1['compliance']\n",
        "X=pd.get_dummies(df1[['state','violation_code']])\n",
        "df1['time']=df1['time'].dt.days\n",
        "X=df1[['amount','time']]\n",
        "#X_train, X_test, y_train, y_test = train_test_split(X_fruits, y_fruits, random_state=0)\n",
        "X_scaled=scaler.fit_transform(X)\n",
        "grid_values = {'n_estimators': [1000]}\n",
        "clf = RandomForestClassifier()\n",
        "grid_clf_acc = GridSearchCV(clf, param_grid = grid_values, cv=5, scoring='roc_auc')\n",
        "grid_clf_acc.fit(X_scaled,y)\n",
        "x=grid_clf_acc.score(X_scaled,y)\n",
        "x"
      ],
      "metadata": {
        "id": "61bOslPoFZJl"
      },
      "execution_count": null,
      "outputs": []
    },
    {
      "cell_type": "code",
      "source": [
        "import pandas as pd\n",
        "import numpy as np\n",
        "from sklearn.model_selection import train_test_split\n",
        "from sklearn.metrics import roc_auc_score\n",
        "from sklearn.preprocessing import MinMaxScaler\n",
        "from sklearn.ensemble import RandomForestClassifier\n",
        "from sklearn.svm import SVC\n",
        "from sklearn.ensemble import GradientBoostingClassifier\n",
        "df2 = pd.read_csv('/drive/My Drive/Colab Notebooks/course3/readonly/train.csv', encoding = 'ISO-8859-1')\n",
        "df3 = pd.read_csv('/drive/My Drive/Colab Notebooks/course3/readonly/addresses.csv', encoding = 'ISO-8859-1')\n",
        "df4 = pd.read_csv('/drive/My Drive/Colab Notebooks/course3/readonly/latlons.csv', encoding = 'ISO-8859-1')\n",
        "df1=df2.merge(df3.merge(df4,on='address'),on='ticket_id')\n",
        "df5 = pd.read_csv('/drive/My Drive/Colab Notebooks/course3/readonly/test.csv', encoding = 'ISO-8859-1')\n",
        "df6=df5.merge(df3.merge(df4,on='address'),on='ticket_id')\n",
        "df6.set_index('ticket_id',inplace=True)\n",
        "scaler = MinMaxScaler()\n",
        "df=df1[['ticket_issued_date', 'hearing_date', 'late_fee', 'judgment_amount','compliance', 'lat', 'lon']]\n",
        "df.dropna(axis='rows',inplace=True)\n",
        "df.reset_index(inplace=True,drop=True)\n",
        "df['time']=pd.to_datetime(df['hearing_date'])-pd.to_datetime(df['ticket_issued_date'])\n",
        "df['amount']=df['judgment_amount']-df['late_fee']\n",
        "df.drop(['judgment_amount', 'late_fee', 'hearing_date', 'ticket_issued_date'], axis=1, inplace=True)\n",
        "y=df['compliance']\n",
        "X=df[['lat','lon']]\n",
        "X['time']=df['time'].dt.days\n",
        "X['time'][X['time']<0]=0\n",
        "X['amount']=df['amount']\n",
        "X_train, X_test, y_train, y_test = train_test_split(X, y)\n",
        "X_train_scaled = scaler.fit_transform(X_train)\n",
        "X_test_scaled = scaler.transform(X_test)\n",
        "clf = GradientBoostingClassifier(max_depth=30, loss='exponential')\n",
        "clf.fit(X_train, y_train)\n",
        "###test_dataframe_cleaning\n",
        "df7=df6[['ticket_issued_date', 'hearing_date', 'late_fee', 'judgment_amount', 'lat', 'lon']]\n",
        "df7['time']=pd.to_datetime(df7['hearing_date'])-pd.to_datetime(df7['ticket_issued_date'])\n",
        "df7['amount']=df7['judgment_amount']-df7['late_fee']\n",
        "df7.drop(['judgment_amount', 'late_fee', 'hearing_date', 'ticket_issued_date'], axis=1, inplace=True)\n",
        "X1=df7[['lat','lon']]\n",
        "X1['time']=df7['time'].dt.days\n",
        "X1['time'][X1['time']<0]=0\n",
        "X1['amount']=df7['amount']\n",
        "X1=X1.fillna(X1.mean())\n",
        "X1_scaled=scaler.transform(X1)\n",
        "###test_dataframe_cleaning\n",
        "X1['compliance']=clf.predict_proba(X1)[:,1]\n",
        "X1['compliance']\n",
        "roc_auc_score(y_test, clf.predict_proba(X_test)[:,1])\n"
      ],
      "metadata": {
        "id": "KSbFigoUZ6Q1"
      },
      "execution_count": null,
      "outputs": []
    },
    {
      "cell_type": "code",
      "source": [
        "import pandas as pd\n",
        "import numpy as np\n",
        "from sklearn.model_selection import train_test_split\n",
        "from sklearn.metrics import roc_auc_score\n",
        "from sklearn.preprocessing import MinMaxScaler\n",
        "from sklearn.ensemble import RandomForestClassifier\n",
        "from sklearn.svm import SVC\n",
        "from sklearn.ensemble import GradientBoostingClassifier\n",
        "df2 = pd.read_csv('/drive/My Drive/Colab Notebooks/course3/readonly/train.csv', encoding = 'ISO-8859-1')\n",
        "df3 = pd.read_csv('/drive/My Drive/Colab Notebooks/course3/readonly/addresses.csv', encoding = 'ISO-8859-1')\n",
        "df4 = pd.read_csv('/drive/My Drive/Colab Notebooks/course3/readonly/latlons.csv', encoding = 'ISO-8859-1')\n",
        "df1=df2.merge(df3.merge(df4,on='address'),on='ticket_id')\n",
        "df5 = pd.read_csv('/drive/My Drive/Colab Notebooks/course3/readonly/test.csv', encoding = 'ISO-8859-1')\n",
        "df6=df5.merge(df3.merge(df4,on='address'),on='ticket_id')\n",
        "df6.set_index('ticket_id',inplace=True)\n",
        "scaler = MinMaxScaler()\n",
        "df=df1[['fine_amount','ticket_issued_date', 'hearing_date', 'late_fee', 'judgment_amount','compliance', 'lat', 'lon']]\n",
        "df.dropna(axis='rows',inplace=True)\n",
        "df.reset_index(inplace=True,drop=True)\n",
        "df['time']=pd.to_datetime(df['hearing_date'])-pd.to_datetime(df['ticket_issued_date'])\n",
        "df['amount']=df['judgment_amount']-df['late_fee']\n",
        "df.drop(['hearing_date', 'ticket_issued_date'], axis=1, inplace=True)\n",
        "y=df['compliance']\n",
        "X=df[['lat','lon']]\n",
        "X['time']=df['time'].dt.days\n",
        "X['time'][X['time']<0]=0\n",
        "X['fine_amount']=df['fine_amount']\n",
        "X['late_fee']=df['late_fee']\n",
        "X_train, X_test, y_train, y_test = train_test_split(X, y)\n",
        "X_train_scaled = scaler.fit_transform(X_train)\n",
        "X_test_scaled = scaler.transform(X_test)\n",
        "clf = GradientBoostingClassifier()\n",
        "clf.fit(X_train, y_train)\n",
        "###test_dataframe_cleaning\n",
        "df7=df6[['fine_amount','ticket_issued_date', 'hearing_date', 'late_fee', 'judgment_amount', 'lat', 'lon']]\n",
        "df7['time']=pd.to_datetime(df7['hearing_date'])-pd.to_datetime(df7['ticket_issued_date'])\n",
        "df7['amount']=df7['judgment_amount']-df7['late_fee']\n",
        "df7.drop(['hearing_date', 'ticket_issued_date'], axis=1, inplace=True)\n",
        "X1=df7[['lat','lon']]\n",
        "X1['time']=df7['time'].dt.days\n",
        "X1['time'][X1['time']<0]=0\n",
        "X1['fine_amount']=df7['fine_amount']\n",
        "X1['late_fee']=df7['late_fee']\n",
        "X1=X1.fillna(X1.mean())\n",
        "X1_scaled=scaler.transform(X1)\n",
        "###test_dataframe_cleaning\n",
        "X1['compliance']=clf.predict_proba(X1)[:,1]\n",
        "X1['compliance']\n",
        "roc_auc_score(y_test, clf.predict_proba(X_test)[:,1])\n"
      ],
      "metadata": {
        "id": "FGfNyjYaA_H7"
      },
      "execution_count": null,
      "outputs": []
    }
  ],
  "metadata": {
    "coursera": {
      "course_slug": "python-machine-learning",
      "graded_item_id": "nNS8l",
      "launcher_item_id": "yWWk7",
      "part_id": "w8BSS"
    },
    "kernelspec": {
      "display_name": "Python 3",
      "language": "python",
      "name": "python3"
    },
    "language_info": {
      "codemirror_mode": {
        "name": "ipython",
        "version": 3
      },
      "file_extension": ".py",
      "mimetype": "text/x-python",
      "name": "python",
      "nbconvert_exporter": "python",
      "pygments_lexer": "ipython3",
      "version": "3.6.2"
    },
    "colab": {
      "provenance": []
    }
  },
  "nbformat": 4,
  "nbformat_minor": 0
}